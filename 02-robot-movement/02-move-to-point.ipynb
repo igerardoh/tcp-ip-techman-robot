{
 "cells": [
  {
   "cell_type": "markdown",
   "id": "1ff70b8c",
   "metadata": {},
   "source": [
    "# DETAILS\n",
    "PC........    : 192.168.132.174\\\n",
    "ROBOT    : 192.168.132.173\n",
    "##### REFERENCE:\n",
    "[EN] https://clay-atlas.com/us/blog/2020/01/23/python-english-tutorial-package-socket-basic/ \\\n",
    "[ZH] https://clay-atlas.com/blog/2019/10/15/python-chinese-tutorial-socket-tcp-ip/"
   ]
  },
  {
   "cell_type": "markdown",
   "id": "6d59b6c7",
   "metadata": {},
   "source": [
    "## Establish Client Connection\n",
    "Run the lines of code below to use your PC as a client and to open the socket connection. The program will automatically send your \"client message\" and wait for any response message from the connected device/robot's.\\\n",
    "The robot IP and listen port will be shown on the TMflow's notice log window on the right after the TCP Listener is started up."
   ]
  },
  {
   "cell_type": "code",
   "execution_count": 1,
   "id": "9eb780c5",
   "metadata": {},
   "outputs": [
    {
     "name": "stdout",
     "output_type": "stream",
     "text": [
      "Socket successfully created\n"
     ]
    }
   ],
   "source": [
    "import socket\n",
    "\n",
    "HOST = '192.168.132.173' # Robot's IP [SERVER]\n",
    "PORT = 5890\n",
    "\n",
    "# Open socket connection\n",
    "try:\n",
    "    client = socket.socket(socket.AF_INET, socket.SOCK_STREAM)\n",
    "    print (\"Socket successfully created\")\n",
    "except socket.error as err:\n",
    "    print (\"Socket failed with error %s\" %(err))\n",
    "    \n",
    "MESSAGE_ID = 1"
   ]
  },
  {
   "cell_type": "markdown",
   "id": "40de82e1",
   "metadata": {},
   "source": [
    "### Change Point"
   ]
  },
  {
   "cell_type": "code",
   "execution_count": 2,
   "id": "ec1974d5",
   "metadata": {},
   "outputs": [
    {
     "name": "stdout",
     "output_type": "stream",
     "text": [
      "Server[Robot]: $TMSCT,4,1,OK,*5C\r\n",
      "\n"
     ]
    }
   ],
   "source": [
    "# Establish connection\n",
    "client.connect((HOST, PORT))\n",
    "\n",
    "# Define function that calculate the Checksum\n",
    "def getCheckSum(sentence):\n",
    "    calc_cksum = 0\n",
    "    for s in sentence:\n",
    "        calc_cksum ^= ord(s)\n",
    "    return str(hex(calc_cksum)).lstrip(\"0\").lstrip(\"x\")\n",
    "\n",
    "# Message parameters\n",
    "HEADER = 'TMSCT'\n",
    "SCRIPT = 'float[] targetP1= {0,0,90,0,90,0}PTP(\"JPP\",targetP1,10,200,0,false)'\n",
    "DATA = str(MESSAGE_ID) + ',' + SCRIPT\n",
    "LENGTH = str(len(DATA))\n",
    "CHECKSUM = getCheckSum(HEADER + ',' + LENGTH + ',' + DATA + ',')\n",
    "\n",
    "# Send your message\n",
    "clientMessage = '$' + HEADER + ',' + LENGTH + ',' + DATA + ',*' + CHECKSUM + '\\r\\n'\n",
    "#clientMessage = '$TMSCT,69,1,float[] targetP1= {0,0,90,0,90,0}PTP(\"JPP\",targetP1,10,200,0,false),*4F\\r\\n'\n",
    "client.sendall(clientMessage.encode())\n",
    "\n",
    "# Wait for any response\n",
    "serverMessage = str(client.recv(8096), encoding='utf-8')  # confirmation response\n",
    "print('Server[Robot]:', serverMessage)\n",
    "\n",
    "# End connection\n",
    "client.close()"
   ]
  },
  {
   "cell_type": "code",
   "execution_count": null,
   "id": "8d1a97ef",
   "metadata": {},
   "outputs": [],
   "source": []
  }
 ],
 "metadata": {
  "kernelspec": {
   "display_name": "Python 3 (ipykernel)",
   "language": "python",
   "name": "python3"
  },
  "language_info": {
   "codemirror_mode": {
    "name": "ipython",
    "version": 3
   },
   "file_extension": ".py",
   "mimetype": "text/x-python",
   "name": "python",
   "nbconvert_exporter": "python",
   "pygments_lexer": "ipython3",
   "version": "3.9.12"
  }
 },
 "nbformat": 4,
 "nbformat_minor": 5
}

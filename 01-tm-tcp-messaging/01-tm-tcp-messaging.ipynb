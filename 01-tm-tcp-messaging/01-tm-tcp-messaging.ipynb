{
 "cells": [
  {
   "cell_type": "markdown",
   "id": "1ff70b8c",
   "metadata": {},
   "source": [
    "# DETAILS\n",
    "PC........    : 192.168.132.174\\\n",
    "ROBOT    : 192.168.132.173\n",
    "##### REFERENCE:\n",
    "[EN] https://clay-atlas.com/us/blog/2020/01/23/python-english-tutorial-package-socket-basic/ \\\n",
    "[ZH] https://clay-atlas.com/blog/2019/10/15/python-chinese-tutorial-socket-tcp-ip/"
   ]
  },
  {
   "cell_type": "markdown",
   "id": "6d59b6c7",
   "metadata": {},
   "source": [
    "# CLIENT\n",
    "Run the lines of code below to use your PC as a client and to open the socket connection. The program will automatically send your \"client message\" and wait for any response message from the connected device/robot's.\\\n",
    "The robot IP and listen port will be shown on the TMflow's notice log window on the right after the TCP Listener is started up."
   ]
  },
  {
   "cell_type": "code",
   "execution_count": 1,
   "id": "9eb780c5",
   "metadata": {},
   "outputs": [
    {
     "name": "stdout",
     "output_type": "stream",
     "text": [
      "Socket successfully created\n",
      "Server[Robot]: $TMSCT,9,0,Listen1,*4C\n",
      "\n"
     ]
    }
   ],
   "source": [
    "import socket\n",
    "\n",
    "HOST = '192.168.132.173' # Robot's IP [SERVER]\n",
    "PORT = 5890\n",
    "\n",
    "# Open socket connection\n",
    "try:\n",
    "    client = socket.socket(socket.AF_INET, socket.SOCK_STREAM)\n",
    "    print (\"Socket successfully created\")\n",
    "except socket.error as err:\n",
    "    print (\"Socket failed with error %s\" %(err))\n",
    "\n",
    "# Establish connerecRction\n",
    "client.connect((HOST, PORT))\n",
    "\n",
    "# Send your message\n",
    "clientMessage = 'PC says hi'\n",
    "client.sendall(clientMessage.encode())\n",
    "\n",
    "# Wait for any response\n",
    "serverMessage = str(client.recv(4096), encoding='utf-8')  # confirmation response\n",
    "print('Server[Robot]:', serverMessage)\n",
    "\n",
    "# End connection\n",
    "client.close()"
   ]
  },
  {
   "cell_type": "markdown",
   "id": "6ed7d479",
   "metadata": {},
   "source": [
    "# SERVER\n",
    "First, run the lines below to usde your laptop/PC as server and to open the socket connection. Then you can use your device/robot to send messages/infromation to your computer\\\n",
    " For best match with hardware and network realities, the value of bufsize should be a relatively small power of 2, for example, 4096."
   ]
  },
  {
   "cell_type": "code",
   "execution_count": null,
   "id": "b72bbc11",
   "metadata": {},
   "outputs": [
    {
     "name": "stdout",
     "output_type": "stream",
     "text": [
      "Connection successfully established\n",
      "Client[robot]: TM waves to you\n",
      "Client[robot]: TM waves to you\n",
      "Client[robot]: TM waves to you\n",
      "Client[robot]: TM waves to you\n",
      "Client[robot]: TM waves to you\n",
      "Client[robot]: TM waves to you\n",
      "Client[robot]: TM waves to you\n",
      "Client[robot]: TM waves to you\n",
      "Client[robot]: TM waves to you\n",
      "Client[robot]: TM waves to you\n",
      "Client[robot]: TM waves to you\n",
      "Client[robot]: TM waves to you\n",
      "Client[robot]: TM waves to you\n",
      "Client[robot]: TM waves to you\n",
      "Client[robot]: TM waves to you\n",
      "Client[robot]: TM waves to you\n",
      "Client[robot]: TM waves to you\n",
      "Client[robot]: TM waves to you\n",
      "Client[robot]: TM waves to you\n",
      "Client[robot]: TM waves to you\n",
      "Client[robot]: TM waves to you\n",
      "Client[robot]: TM waves to you\n",
      "Client[robot]: TM waves to you\n",
      "Client[robot]: TM waves to you\n",
      "Client[robot]: TM waves to you\n",
      "Client[robot]: TM waves to you\n",
      "Client[robot]: TM waves to you\n",
      "Client[robot]: TM waves to you\n",
      "Client[robot]: TM waves to you\n",
      "Client[robot]: TM waves to you\n",
      "Client[robot]: TM waves to you\n",
      "Client[robot]: TM waves to you\n",
      "Client[robot]: TM waves to you\n",
      "Client[robot]: TM waves to you\n",
      "Client[robot]: TM waves to you\n",
      "Client[robot]: TM waves to you\n",
      "Client[robot]: TM waves to you\n",
      "Client[robot]: TM waves to you\n",
      "Client[robot]: TM waves to you\n",
      "Client[robot]: TM waves to you\n",
      "Client[robot]: TM waves to you\n",
      "Client[robot]: TM waves to you\n",
      "Client[robot]: TM waves to you\n",
      "Client[robot]: TM waves to you\n",
      "Client[robot]: TM waves to you\n",
      "Client[robot]: TM waves to you\n"
     ]
    }
   ],
   "source": [
    "import socket\n",
    "\n",
    "HOST = '192.168.132.174' # this PC/Laptop's IP, as SERVER\n",
    "PORT = 12345 \n",
    "\n",
    "# Open socket connection\n",
    "try:\n",
    "    server = socket.socket(socket.AF_INET, socket.SOCK_STREAM)\n",
    "    print (\"Connection successfully established\")\n",
    "except socket.error as err:\n",
    "    print (\"Socket creation failed with error %s\" %(err))\n",
    "\n",
    "# Establish connection\n",
    "server.bind((HOST, PORT))\n",
    "server.listen()\n",
    "\n",
    "while True:\n",
    "    conn, addr = server.accept()\n",
    "    clientMessage = str(conn.recv(1024), encoding='utf-8')\n",
    "\n",
    "    print('Client[robot]:', clientMessage)\n",
    "\n",
    "    serverMessage = 'PC says hi'\n",
    "    conn.sendall(serverMessage.encode())\n",
    "    conn.close()"
   ]
  },
  {
   "cell_type": "code",
   "execution_count": null,
   "id": "76c2466b",
   "metadata": {},
   "outputs": [],
   "source": []
  }
 ],
 "metadata": {
  "kernelspec": {
   "display_name": "Python 3 (ipykernel)",
   "language": "python",
   "name": "python3"
  },
  "language_info": {
   "codemirror_mode": {
    "name": "ipython",
    "version": 3
   },
   "file_extension": ".py",
   "mimetype": "text/x-python",
   "name": "python",
   "nbconvert_exporter": "python",
   "pygments_lexer": "ipython3",
   "version": "3.9.12"
  }
 },
 "nbformat": 4,
 "nbformat_minor": 5
}
